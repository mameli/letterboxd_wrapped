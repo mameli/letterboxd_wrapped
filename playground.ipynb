{
 "cells": [
  {
   "cell_type": "code",
   "execution_count": 1,
   "id": "b4f90b20-53de-4a76-8dd4-b675d48fb8c6",
   "metadata": {},
   "outputs": [],
   "source": [
    "import zipfile\n",
    "import requests\n",
    "import os\n",
    "import json\n",
    "import polars as pl\n",
    "from dotenv import load_dotenv\n",
    "from collections import Counter\n",
    "\n",
    "load_dotenv()\n",
    "\n",
    "zip_file_path = \"./export/Account Settings Dec 18 2024.zip\"\n",
    "\n",
    "extract_to_path = \"./extracted_files\"\n",
    "\n",
    "with zipfile.ZipFile(zip_file_path, 'r') as zip_ref:\n",
    "    zip_ref.extractall(extract_to_path)"
   ]
  },
  {
   "cell_type": "code",
   "execution_count": 2,
   "id": "bcebf795-5764-4bf9-8f69-972d4c4555c6",
   "metadata": {},
   "outputs": [],
   "source": [
    "# read csv from extracted files diary with polars\n",
    "\n",
    "df = pl.read_csv(f\"{extract_to_path}/diary.csv\").filter(pl.col(\"Watched Date\") > pl.lit(\"2024-01-01\"))"
   ]
  },
  {
   "cell_type": "code",
   "execution_count": 3,
   "id": "bba7b8f4-3ecc-407f-adac-0b959a8bb2c7",
   "metadata": {},
   "outputs": [
    {
     "data": {
      "text/html": [
       "<div><style>\n",
       ".dataframe > thead > tr,\n",
       ".dataframe > tbody > tr {\n",
       "  text-align: right;\n",
       "  white-space: pre-wrap;\n",
       "}\n",
       "</style>\n",
       "<small>shape: (90, 9)</small><table border=\"1\" class=\"dataframe\"><thead><tr><th>Date</th><th>Name</th><th>Year</th><th>Letterboxd URI</th><th>Rating</th><th>Rewatch</th><th>Tags</th><th>Watched Date</th><th>title_year</th></tr><tr><td>datetime[μs]</td><td>str</td><td>i64</td><td>str</td><td>f64</td><td>str</td><td>str</td><td>datetime[μs]</td><td>str</td></tr></thead><tbody><tr><td>2024-01-05 00:00:00</td><td>&quot;Fallen Leaves&quot;</td><td>2023</td><td>&quot;https://boxd.it/5uQmgp&quot;</td><td>3.5</td><td>null</td><td>null</td><td>2024-01-04 00:00:00</td><td>&quot;Fallen Leaves_2023&quot;</td></tr><tr><td>2024-01-06 00:00:00</td><td>&quot;Heat&quot;</td><td>1995</td><td>&quot;https://boxd.it/5vpfCt&quot;</td><td>5.0</td><td>null</td><td>null</td><td>2024-01-05 00:00:00</td><td>&quot;Heat_1995&quot;</td></tr><tr><td>2024-01-08 00:00:00</td><td>&quot;The Boy and the Heron&quot;</td><td>2023</td><td>&quot;https://boxd.it/5wOdu7&quot;</td><td>4.5</td><td>null</td><td>null</td><td>2024-01-07 00:00:00</td><td>&quot;The Boy and the Heron_2023&quot;</td></tr><tr><td>2024-01-08 00:00:00</td><td>&quot;Anatomy of a Fall&quot;</td><td>2023</td><td>&quot;https://boxd.it/5x4onX&quot;</td><td>4.5</td><td>null</td><td>null</td><td>2024-01-08 00:00:00</td><td>&quot;Anatomy of a Fall_2023&quot;</td></tr><tr><td>2024-01-10 00:00:00</td><td>&quot;The Holdovers&quot;</td><td>2023</td><td>&quot;https://boxd.it/5ybXH7&quot;</td><td>4.5</td><td>null</td><td>null</td><td>2024-01-09 00:00:00</td><td>&quot;The Holdovers_2023&quot;</td></tr><tr><td>&hellip;</td><td>&hellip;</td><td>&hellip;</td><td>&hellip;</td><td>&hellip;</td><td>&hellip;</td><td>&hellip;</td><td>&hellip;</td><td>&hellip;</td></tr><tr><td>2024-11-18 00:00:00</td><td>&quot;Submarine&quot;</td><td>2010</td><td>&quot;https://boxd.it/7PT77N&quot;</td><td>5.0</td><td>null</td><td>null</td><td>2024-11-17 00:00:00</td><td>&quot;Submarine_2010&quot;</td></tr><tr><td>2024-11-19 00:00:00</td><td>&quot;Ferris Bueller&#x27;s Day Off&quot;</td><td>1986</td><td>&quot;https://boxd.it/7QqY5B&quot;</td><td>5.0</td><td>null</td><td>null</td><td>2024-11-18 00:00:00</td><td>&quot;Ferris Bueller&#x27;s Day Off_1986&quot;</td></tr><tr><td>2024-11-22 00:00:00</td><td>&quot;Wicked&quot;</td><td>2024</td><td>&quot;https://boxd.it/7ROjtJ&quot;</td><td>4.5</td><td>null</td><td>null</td><td>2024-11-21 00:00:00</td><td>&quot;Wicked_2024&quot;</td></tr><tr><td>2024-12-06 00:00:00</td><td>&quot;Frances Ha&quot;</td><td>2012</td><td>&quot;https://boxd.it/7YP2ed&quot;</td><td>4.5</td><td>null</td><td>null</td><td>2024-12-05 00:00:00</td><td>&quot;Frances Ha_2012&quot;</td></tr><tr><td>2024-12-15 00:00:00</td><td>&quot;The Witch&quot;</td><td>2015</td><td>&quot;https://boxd.it/83h7Gt&quot;</td><td>4.5</td><td>null</td><td>null</td><td>2024-12-14 00:00:00</td><td>&quot;The Witch_2015&quot;</td></tr></tbody></table></div>"
      ],
      "text/plain": [
       "shape: (90, 9)\n",
       "┌──────────────┬─────────────┬──────┬─────────────┬───┬─────────┬──────┬─────────────┬─────────────┐\n",
       "│ Date         ┆ Name        ┆ Year ┆ Letterboxd  ┆ … ┆ Rewatch ┆ Tags ┆ Watched     ┆ title_year  │\n",
       "│ ---          ┆ ---         ┆ ---  ┆ URI         ┆   ┆ ---     ┆ ---  ┆ Date        ┆ ---         │\n",
       "│ datetime[μs] ┆ str         ┆ i64  ┆ ---         ┆   ┆ str     ┆ str  ┆ ---         ┆ str         │\n",
       "│              ┆             ┆      ┆ str         ┆   ┆         ┆      ┆ datetime[μs ┆             │\n",
       "│              ┆             ┆      ┆             ┆   ┆         ┆      ┆ ]           ┆             │\n",
       "╞══════════════╪═════════════╪══════╪═════════════╪═══╪═════════╪══════╪═════════════╪═════════════╡\n",
       "│ 2024-01-05   ┆ Fallen      ┆ 2023 ┆ https://box ┆ … ┆ null    ┆ null ┆ 2024-01-04  ┆ Fallen      │\n",
       "│ 00:00:00     ┆ Leaves      ┆      ┆ d.it/5uQmgp ┆   ┆         ┆      ┆ 00:00:00    ┆ Leaves_2023 │\n",
       "│ 2024-01-06   ┆ Heat        ┆ 1995 ┆ https://box ┆ … ┆ null    ┆ null ┆ 2024-01-05  ┆ Heat_1995   │\n",
       "│ 00:00:00     ┆             ┆      ┆ d.it/5vpfCt ┆   ┆         ┆      ┆ 00:00:00    ┆             │\n",
       "│ 2024-01-08   ┆ The Boy and ┆ 2023 ┆ https://box ┆ … ┆ null    ┆ null ┆ 2024-01-07  ┆ The Boy and │\n",
       "│ 00:00:00     ┆ the Heron   ┆      ┆ d.it/5wOdu7 ┆   ┆         ┆      ┆ 00:00:00    ┆ the         │\n",
       "│              ┆             ┆      ┆             ┆   ┆         ┆      ┆             ┆ Heron_2023  │\n",
       "│ 2024-01-08   ┆ Anatomy of  ┆ 2023 ┆ https://box ┆ … ┆ null    ┆ null ┆ 2024-01-08  ┆ Anatomy of  │\n",
       "│ 00:00:00     ┆ a Fall      ┆      ┆ d.it/5x4onX ┆   ┆         ┆      ┆ 00:00:00    ┆ a Fall_2023 │\n",
       "│ 2024-01-10   ┆ The         ┆ 2023 ┆ https://box ┆ … ┆ null    ┆ null ┆ 2024-01-09  ┆ The Holdove │\n",
       "│ 00:00:00     ┆ Holdovers   ┆      ┆ d.it/5ybXH7 ┆   ┆         ┆      ┆ 00:00:00    ┆ rs_2023     │\n",
       "│ …            ┆ …           ┆ …    ┆ …           ┆ … ┆ …       ┆ …    ┆ …           ┆ …           │\n",
       "│ 2024-11-18   ┆ Submarine   ┆ 2010 ┆ https://box ┆ … ┆ null    ┆ null ┆ 2024-11-17  ┆ Submarine_2 │\n",
       "│ 00:00:00     ┆             ┆      ┆ d.it/7PT77N ┆   ┆         ┆      ┆ 00:00:00    ┆ 010         │\n",
       "│ 2024-11-19   ┆ Ferris      ┆ 1986 ┆ https://box ┆ … ┆ null    ┆ null ┆ 2024-11-18  ┆ Ferris      │\n",
       "│ 00:00:00     ┆ Bueller's   ┆      ┆ d.it/7QqY5B ┆   ┆         ┆      ┆ 00:00:00    ┆ Bueller's   │\n",
       "│              ┆ Day Off     ┆      ┆             ┆   ┆         ┆      ┆             ┆ Day         │\n",
       "│              ┆             ┆      ┆             ┆   ┆         ┆      ┆             ┆ Off_1986    │\n",
       "│ 2024-11-22   ┆ Wicked      ┆ 2024 ┆ https://box ┆ … ┆ null    ┆ null ┆ 2024-11-21  ┆ Wicked_2024 │\n",
       "│ 00:00:00     ┆             ┆      ┆ d.it/7ROjtJ ┆   ┆         ┆      ┆ 00:00:00    ┆             │\n",
       "│ 2024-12-06   ┆ Frances Ha  ┆ 2012 ┆ https://box ┆ … ┆ null    ┆ null ┆ 2024-12-05  ┆ Frances     │\n",
       "│ 00:00:00     ┆             ┆      ┆ d.it/7YP2ed ┆   ┆         ┆      ┆ 00:00:00    ┆ Ha_2012     │\n",
       "│ 2024-12-15   ┆ The Witch   ┆ 2015 ┆ https://box ┆ … ┆ null    ┆ null ┆ 2024-12-14  ┆ The         │\n",
       "│ 00:00:00     ┆             ┆      ┆ d.it/83h7Gt ┆   ┆         ┆      ┆ 00:00:00    ┆ Witch_2015  │\n",
       "└──────────────┴─────────────┴──────┴─────────────┴───┴─────────┴──────┴─────────────┴─────────────┘"
      ]
     },
     "execution_count": 3,
     "metadata": {},
     "output_type": "execute_result"
    }
   ],
   "source": [
    "df = df.with_columns( \n",
    "    pl.col(\"Date\").str.to_datetime(\"%Y-%m-%d\"),\n",
    "    pl.col(\"Watched Date\").str.to_datetime(\"%Y-%m-%d\"),\n",
    "    pl.concat_str(\n",
    "        [\n",
    "            pl.col(\"Name\"),\n",
    "            pl.col(\"Year\"),\n",
    "        ],\n",
    "        separator=\"_\",\n",
    "    ).alias(\"title_year\")\n",
    ")\n",
    "\n",
    "df"
   ]
  },
  {
   "cell_type": "code",
   "execution_count": 4,
   "id": "efde818b",
   "metadata": {},
   "outputs": [],
   "source": [
    "CACHE_FILE = \"movie_cache.json\""
   ]
  },
  {
   "cell_type": "code",
   "execution_count": 5,
   "id": "e30bf53d",
   "metadata": {},
   "outputs": [],
   "source": [
    "def load_cache():\n",
    "    if os.path.exists(CACHE_FILE):\n",
    "        with open(CACHE_FILE, 'r') as f:\n",
    "            return json.load(f)\n",
    "    return {}\n",
    "\n",
    "def save_cache(cache):\n",
    "    with open(CACHE_FILE, 'w') as f:\n",
    "        json.dump(cache, f, indent=4)"
   ]
  },
  {
   "cell_type": "code",
   "execution_count": 6,
   "id": "b3ab1b22",
   "metadata": {},
   "outputs": [],
   "source": [
    "def get_movie_data(title, year, api_key):\n",
    "    parsed_title = title.replace(\" \", \"+\")\n",
    "\n",
    "    cache = load_cache()\n",
    "    key = f\"{title}_{year}\"\n",
    "\n",
    "    if key in cache:\n",
    "        print(f\"Cache hit per '{title}' ({year})\")\n",
    "        return cache[key]\n",
    "\n",
    "    url = f\"http://www.omdbapi.com/?&t={parsed_title}&y={year}&apikey={api_key}\"\n",
    "\n",
    "    response = requests.get(url)\n",
    "    data = response.json()\n",
    "\n",
    "    if response.status_code == 200 and data.get(\"Response\") == \"True\":\n",
    "        cache[key] = data\n",
    "        save_cache(cache)\n",
    "        return data\n",
    "    else:\n",
    "        print(f\"Errore: {data.get('Error')}\")\n",
    "        return None"
   ]
  },
  {
   "cell_type": "code",
   "execution_count": 7,
   "id": "d4fce5cc",
   "metadata": {},
   "outputs": [
    {
     "name": "stdout",
     "output_type": "stream",
     "text": [
      "Cache hit per 'Submarine' (2010)\n"
     ]
    },
    {
     "data": {
      "text/plain": [
       "{'Title': 'Submarine',\n",
       " 'Year': '2010',\n",
       " 'Rated': 'R',\n",
       " 'Released': '18 Mar 2011',\n",
       " 'Runtime': '97 min',\n",
       " 'Genre': 'Comedy, Drama, Romance',\n",
       " 'Director': 'Richard Ayoade',\n",
       " 'Writer': 'Richard Ayoade, Joe Dunthorne',\n",
       " 'Actors': 'Craig Roberts, Sally Hawkins, Paddy Considine',\n",
       " 'Plot': '15-year-old Oliver Tate has two objectives: to lose his virginity before his next birthday, and to extinguish the flame between his mother and an ex-lover who has resurfaced in her life.',\n",
       " 'Language': 'English',\n",
       " 'Country': 'United Kingdom, United States',\n",
       " 'Awards': 'Nominated for 1 BAFTA Award6 wins & 17 nominations total',\n",
       " 'Poster': 'https://m.media-amazon.com/images/M/MV5BMTQ5ODMxNTIyNV5BMl5BanBnXkFtZTcwNjQ1ODgyNQ@@._V1_SX300.jpg',\n",
       " 'Ratings': [{'Source': 'Internet Movie Database', 'Value': '7.3/10'},\n",
       "  {'Source': 'Rotten Tomatoes', 'Value': '88%'},\n",
       "  {'Source': 'Metacritic', 'Value': '76/100'}],\n",
       " 'Metascore': '76',\n",
       " 'imdbRating': '7.3',\n",
       " 'imdbVotes': '97,537',\n",
       " 'imdbID': 'tt1440292',\n",
       " 'Type': 'movie',\n",
       " 'DVD': 'N/A',\n",
       " 'BoxOffice': '$467,602',\n",
       " 'Production': 'N/A',\n",
       " 'Website': 'N/A',\n",
       " 'Response': 'True'}"
      ]
     },
     "execution_count": 7,
     "metadata": {},
     "output_type": "execute_result"
    }
   ],
   "source": [
    "API_KEY = os.getenv(\"API_KEY\")\n",
    "\n",
    "get_movie_data(\"Submarine\", 2010, API_KEY)"
   ]
  },
  {
   "cell_type": "code",
   "execution_count": 8,
   "id": "356b01ec",
   "metadata": {},
   "outputs": [],
   "source": [
    "def get_metatadat(diary_df, api_key):\n",
    "    for t, y in diary_df[['Name', 'Year']].rows():\n",
    "        print(f\"Getting data for {t} ({y})\")\n",
    "        get_movie_data(t, y, api_key)\n"
   ]
  },
  {
   "cell_type": "markdown",
   "id": "87bf49c8",
   "metadata": {},
   "source": []
  },
  {
   "cell_type": "code",
   "execution_count": 9,
   "id": "74888ecc",
   "metadata": {},
   "outputs": [],
   "source": [
    "def extract_metadata(cache, title_year, param):\n",
    "        temp_metadata = []\n",
    "        for ty in title_year:\n",
    "            temp_data = cache.get(ty)\n",
    "            if temp_data is not None:\n",
    "                temp_metadata.append(cache.get(ty)[param])\n",
    "            else:\n",
    "                temp_metadata.append(None)\n",
    "        return pl.Series(\"metadata\", temp_metadata)\n",
    "\n",
    "cache = load_cache()\n",
    "\n",
    "df = df.with_columns(\n",
    "    (pl.struct([\"title_year\"]).map_batches(lambda movie: extract_metadata(cache, movie.struct.field(\"title_year\"), \"Genre\"))).str.split(\", \").alias(\"Genre\"),\n",
    "    (pl.struct([\"title_year\"]).map_batches(lambda movie: extract_metadata(cache, movie.struct.field(\"title_year\"), \"Runtime\"))).alias(\"Runtime\"),\n",
    "    (pl.struct([\"title_year\"]).map_batches(lambda movie: extract_metadata(cache, movie.struct.field(\"title_year\"), \"Director\"))).alias(\"Director\"),\n",
    "    (pl.struct([\"title_year\"]).map_batches(lambda movie: extract_metadata(cache, movie.struct.field(\"title_year\"), \"Writer\"))).str.split(\", \").alias(\"Writer\"),\n",
    "    (pl.struct([\"title_year\"]).map_batches(lambda movie: extract_metadata(cache, movie.struct.field(\"title_year\"), \"Actors\"))).str.split(\", \").alias(\"Actors\"),\n",
    "    (pl.struct([\"title_year\"]).map_batches(lambda movie: extract_metadata(cache, movie.struct.field(\"title_year\"), \"Country\"))).str.split(\", \").alias(\"Country\"),\n",
    "    (pl.struct([\"title_year\"]).map_batches(lambda movie: extract_metadata(cache, movie.struct.field(\"title_year\"), \"Language\"))).str.split(\", \").alias(\"Language\"),\n",
    "    (pl.struct([\"title_year\"]).map_batches(lambda movie: extract_metadata(cache, movie.struct.field(\"title_year\"), \"Metascore\"))).str.to_integer(strict=False).alias(\"Metascore\"),\n",
    "    (pl.struct([\"title_year\"]).map_batches(lambda movie: extract_metadata(cache, movie.struct.field(\"title_year\"), \"imdbRating\"))).str.to_decimal().alias(\"imdbRating\"),\n",
    ")\n",
    "\n",
    "df = df.with_columns(\n",
    "    ((pl.col(\"Runtime\").str.replace(\" min\", \"\").str.to_integer())).alias(\"Runtime_normalized\"),\n",
    "    ((pl.col(\"Metascore\")) * 5/ 100).alias(\"Normalized_Metascore\"),\n",
    "    ((pl.col(\"imdbRating\")) * 5/ 10).alias(\"Normalized_IMDB\"),\n",
    "    (pl.col(\"Rating\") - (pl.col(\"Metascore\")) * 5/ 100).abs().alias(\"Rating_Difference_Metascore\"),\n",
    "    (pl.col(\"Rating\") - (pl.col(\"imdbRating\")) * 5/ 10).abs().alias(\"Rating_Difference_IMDB\"),\n",
    ")\n",
    "        "
   ]
  },
  {
   "cell_type": "code",
   "execution_count": 27,
   "id": "b8f71a37",
   "metadata": {},
   "outputs": [
    {
     "data": {
      "text/html": [
       "<div><style>\n",
       ".dataframe > thead > tr,\n",
       ".dataframe > tbody > tr {\n",
       "  text-align: right;\n",
       "  white-space: pre-wrap;\n",
       "}\n",
       "</style>\n",
       "<small>shape: (2, 23)</small><table border=\"1\" class=\"dataframe\"><thead><tr><th>Date</th><th>Name</th><th>Year</th><th>Letterboxd URI</th><th>Rating</th><th>Rewatch</th><th>Tags</th><th>Watched Date</th><th>title_year</th><th>Genre</th><th>Runtime</th><th>Director</th><th>Writer</th><th>Actors</th><th>Country</th><th>Language</th><th>Metascore</th><th>imdbRating</th><th>Runtime_normalized</th><th>Normalized_Metascore</th><th>Normalized_IMDB</th><th>Rating_Difference_Metascore</th><th>Rating_Difference_IMDB</th></tr><tr><td>datetime[μs]</td><td>str</td><td>i64</td><td>str</td><td>f64</td><td>str</td><td>str</td><td>datetime[μs]</td><td>str</td><td>list[str]</td><td>str</td><td>str</td><td>list[str]</td><td>list[str]</td><td>list[str]</td><td>list[str]</td><td>i64</td><td>decimal[*,1]</td><td>i64</td><td>f64</td><td>decimal[*,6]</td><td>f64</td><td>f64</td></tr></thead><tbody><tr><td>2024-01-05 00:00:00</td><td>&quot;Fallen Leaves&quot;</td><td>2023</td><td>&quot;https://boxd.it/5uQmgp&quot;</td><td>3.5</td><td>null</td><td>null</td><td>2024-01-04 00:00:00</td><td>&quot;Fallen Leaves_2023&quot;</td><td>[&quot;Comedy&quot;, &quot;Drama&quot;, &quot;Romance&quot;]</td><td>&quot;81 min&quot;</td><td>&quot;Aki Kaurismäki&quot;</td><td>[&quot;Aki Kaurismäki&quot;]</td><td>[&quot;Alma Pöysti&quot;, &quot;Jussi Vatanen&quot;, &quot;Janne Hyytiäinen&quot;]</td><td>[&quot;Finland&quot;, &quot;Germany&quot;]</td><td>[&quot;Finnish&quot;, &quot;Arabic&quot;]</td><td>86</td><td>7.3</td><td>81</td><td>4.3</td><td>3.650000</td><td>0.8</td><td>0.15</td></tr><tr><td>2024-01-06 00:00:00</td><td>&quot;Heat&quot;</td><td>1995</td><td>&quot;https://boxd.it/5vpfCt&quot;</td><td>5.0</td><td>null</td><td>null</td><td>2024-01-05 00:00:00</td><td>&quot;Heat_1995&quot;</td><td>[&quot;Action&quot;, &quot;Crime&quot;, &quot;Drama&quot;]</td><td>&quot;170 min&quot;</td><td>&quot;Michael Mann&quot;</td><td>[&quot;Michael Mann&quot;]</td><td>[&quot;Al Pacino&quot;, &quot;Robert De Niro&quot;, &quot;Val Kilmer&quot;]</td><td>[&quot;United States&quot;]</td><td>[&quot;English&quot;, &quot;Spanish&quot;]</td><td>76</td><td>8.3</td><td>170</td><td>3.8</td><td>4.150000</td><td>1.2</td><td>0.85</td></tr></tbody></table></div>"
      ],
      "text/plain": [
       "shape: (2, 23)\n",
       "┌─────────────┬────────┬──────┬────────────┬───┬────────────┬────────────┬────────────┬────────────┐\n",
       "│ Date        ┆ Name   ┆ Year ┆ Letterboxd ┆ … ┆ Normalized ┆ Normalized ┆ Rating_Dif ┆ Rating_Dif │\n",
       "│ ---         ┆ ---    ┆ ---  ┆ URI        ┆   ┆ _Metascore ┆ _IMDB      ┆ ference_Me ┆ ference_IM │\n",
       "│ datetime[μs ┆ str    ┆ i64  ┆ ---        ┆   ┆ ---        ┆ ---        ┆ tascore    ┆ DB         │\n",
       "│ ]           ┆        ┆      ┆ str        ┆   ┆ f64        ┆ decimal[*, ┆ ---        ┆ ---        │\n",
       "│             ┆        ┆      ┆            ┆   ┆            ┆ 6]         ┆ f64        ┆ f64        │\n",
       "╞═════════════╪════════╪══════╪════════════╪═══╪════════════╪════════════╪════════════╪════════════╡\n",
       "│ 2024-01-05  ┆ Fallen ┆ 2023 ┆ https://bo ┆ … ┆ 4.3        ┆ 3.650000   ┆ 0.8        ┆ 0.15       │\n",
       "│ 00:00:00    ┆ Leaves ┆      ┆ xd.it/5uQm ┆   ┆            ┆            ┆            ┆            │\n",
       "│             ┆        ┆      ┆ gp         ┆   ┆            ┆            ┆            ┆            │\n",
       "│ 2024-01-06  ┆ Heat   ┆ 1995 ┆ https://bo ┆ … ┆ 3.8        ┆ 4.150000   ┆ 1.2        ┆ 0.85       │\n",
       "│ 00:00:00    ┆        ┆      ┆ xd.it/5vpf ┆   ┆            ┆            ┆            ┆            │\n",
       "│             ┆        ┆      ┆ Ct         ┆   ┆            ┆            ┆            ┆            │\n",
       "└─────────────┴────────┴──────┴────────────┴───┴────────────┴────────────┴────────────┴────────────┘"
      ]
     },
     "execution_count": 27,
     "metadata": {},
     "output_type": "execute_result"
    }
   ],
   "source": [
    "df.head(2)"
   ]
  },
  {
   "cell_type": "code",
   "execution_count": 28,
   "id": "23ffcee7",
   "metadata": {},
   "outputs": [],
   "source": [
    "def get_top_from_list(df, column, top=5):\n",
    "    items = []\n",
    "    for item_list in df.select(column).rows():\n",
    "        if item_list[0]:\n",
    "            for i in item_list[0]:\n",
    "                items.append(i)\n",
    "\n",
    "    item_counts = Counter(items)\n",
    "\n",
    "    for item, count in item_counts.most_common(top):\n",
    "        print(f\"{item}: {count}\")"
   ]
  },
  {
   "cell_type": "markdown",
   "id": "38dffce9",
   "metadata": {},
   "source": [
    "# Results"
   ]
  },
  {
   "cell_type": "code",
   "execution_count": 30,
   "id": "5a588c3c",
   "metadata": {},
   "outputs": [
    {
     "data": {
      "text/html": [
       "<div><style>\n",
       ".dataframe > thead > tr,\n",
       ".dataframe > tbody > tr {\n",
       "  text-align: right;\n",
       "  white-space: pre-wrap;\n",
       "}\n",
       "</style>\n",
       "<small>shape: (5, 2)</small><table border=\"1\" class=\"dataframe\"><thead><tr><th>Name</th><th>Runtime_normalized</th></tr><tr><td>str</td><td>i64</td></tr></thead><tbody><tr><td>&quot;A Brighter Summer Day&quot;</td><td>237</td></tr><tr><td>&quot;Lawrence of Arabia&quot;</td><td>227</td></tr><tr><td>&quot;The Sound of Music&quot;</td><td>172</td></tr><tr><td>&quot;Heat&quot;</td><td>170</td></tr><tr><td>&quot;Dune: Part Two&quot;</td><td>166</td></tr></tbody></table></div>"
      ],
      "text/plain": [
       "shape: (5, 2)\n",
       "┌───────────────────────┬────────────────────┐\n",
       "│ Name                  ┆ Runtime_normalized │\n",
       "│ ---                   ┆ ---                │\n",
       "│ str                   ┆ i64                │\n",
       "╞═══════════════════════╪════════════════════╡\n",
       "│ A Brighter Summer Day ┆ 237                │\n",
       "│ Lawrence of Arabia    ┆ 227                │\n",
       "│ The Sound of Music    ┆ 172                │\n",
       "│ Heat                  ┆ 170                │\n",
       "│ Dune: Part Two        ┆ 166                │\n",
       "└───────────────────────┴────────────────────┘"
      ]
     },
     "execution_count": 30,
     "metadata": {},
     "output_type": "execute_result"
    }
   ],
   "source": [
    "# Longest movies\n",
    "df.select(\"Name\", \"Runtime_normalized\").drop_nulls().sort(\"Runtime_normalized\", descending=True).head(5)"
   ]
  },
  {
   "cell_type": "code",
   "execution_count": 31,
   "id": "7b486134",
   "metadata": {},
   "outputs": [
    {
     "data": {
      "text/html": [
       "<div><style>\n",
       ".dataframe > thead > tr,\n",
       ".dataframe > tbody > tr {\n",
       "  text-align: right;\n",
       "  white-space: pre-wrap;\n",
       "}\n",
       "</style>\n",
       "<small>shape: (1, 1)</small><table border=\"1\" class=\"dataframe\"><thead><tr><th>Runtime_normalized</th></tr><tr><td>f64</td></tr></thead><tbody><tr><td>177.766667</td></tr></tbody></table></div>"
      ],
      "text/plain": [
       "shape: (1, 1)\n",
       "┌────────────────────┐\n",
       "│ Runtime_normalized │\n",
       "│ ---                │\n",
       "│ f64                │\n",
       "╞════════════════════╡\n",
       "│ 177.766667         │\n",
       "└────────────────────┘"
      ]
     },
     "execution_count": 31,
     "metadata": {},
     "output_type": "execute_result"
    }
   ],
   "source": [
    "# Total screen time\n",
    "df.select(\"Runtime_normalized\").sum()/60"
   ]
  },
  {
   "cell_type": "code",
   "execution_count": 35,
   "id": "b5150d08",
   "metadata": {},
   "outputs": [
    {
     "data": {
      "text/html": [
       "<div><style>\n",
       ".dataframe > thead > tr,\n",
       ".dataframe > tbody > tr {\n",
       "  text-align: right;\n",
       "  white-space: pre-wrap;\n",
       "}\n",
       "</style>\n",
       "<small>shape: (5, 2)</small><table border=\"1\" class=\"dataframe\"><thead><tr><th>Watched Date</th><th>Runtime_normalized</th></tr><tr><td>datetime[μs]</td><td>f64</td></tr></thead><tbody><tr><td>2024-07-01 00:00:00</td><td>23.316667</td></tr><tr><td>2024-10-01 00:00:00</td><td>20.666667</td></tr><tr><td>2024-09-01 00:00:00</td><td>17.85</td></tr><tr><td>2024-08-01 00:00:00</td><td>17.7</td></tr><tr><td>2024-03-01 00:00:00</td><td>17.416667</td></tr></tbody></table></div>"
      ],
      "text/plain": [
       "shape: (5, 2)\n",
       "┌─────────────────────┬────────────────────┐\n",
       "│ Watched Date        ┆ Runtime_normalized │\n",
       "│ ---                 ┆ ---                │\n",
       "│ datetime[μs]        ┆ f64                │\n",
       "╞═════════════════════╪════════════════════╡\n",
       "│ 2024-07-01 00:00:00 ┆ 23.316667          │\n",
       "│ 2024-10-01 00:00:00 ┆ 20.666667          │\n",
       "│ 2024-09-01 00:00:00 ┆ 17.85              │\n",
       "│ 2024-08-01 00:00:00 ┆ 17.7               │\n",
       "│ 2024-03-01 00:00:00 ┆ 17.416667          │\n",
       "└─────────────────────┴────────────────────┘"
      ]
     },
     "execution_count": 35,
     "metadata": {},
     "output_type": "execute_result"
    }
   ],
   "source": [
    "# Top 5 month screen time\n",
    "df.group_by_dynamic(\"Watched Date\", every=\"1mo\").agg(pl.col(\"Runtime_normalized\").sum()/60).sort(\"Runtime_normalized\", descending=True).head(5)"
   ]
  },
  {
   "cell_type": "code",
   "execution_count": 38,
   "id": "661ab441",
   "metadata": {},
   "outputs": [
    {
     "data": {
      "text/html": [
       "<div><style>\n",
       ".dataframe > thead > tr,\n",
       ".dataframe > tbody > tr {\n",
       "  text-align: right;\n",
       "  white-space: pre-wrap;\n",
       "}\n",
       "</style>\n",
       "<small>shape: (1, 1)</small><table border=\"1\" class=\"dataframe\"><thead><tr><th>Name</th></tr><tr><td>u32</td></tr></thead><tbody><tr><td>90</td></tr></tbody></table></div>"
      ],
      "text/plain": [
       "shape: (1, 1)\n",
       "┌──────┐\n",
       "│ Name │\n",
       "│ ---  │\n",
       "│ u32  │\n",
       "╞══════╡\n",
       "│ 90   │\n",
       "└──────┘"
      ]
     },
     "execution_count": 38,
     "metadata": {},
     "output_type": "execute_result"
    }
   ],
   "source": [
    "# Total number of movies\n",
    "df.select(\"Name\").count()"
   ]
  },
  {
   "cell_type": "code",
   "execution_count": 51,
   "id": "7a5c7acf",
   "metadata": {},
   "outputs": [
    {
     "data": {
      "text/plain": [
       "79"
      ]
     },
     "execution_count": 51,
     "metadata": {},
     "output_type": "execute_result"
    }
   ],
   "source": [
    "# Total number of directors\n",
    "df.select(\"Director\").n_unique()"
   ]
  },
  {
   "cell_type": "code",
   "execution_count": 46,
   "id": "e619103f",
   "metadata": {},
   "outputs": [
    {
     "data": {
      "text/html": [
       "<div><style>\n",
       ".dataframe > thead > tr,\n",
       ".dataframe > tbody > tr {\n",
       "  text-align: right;\n",
       "  white-space: pre-wrap;\n",
       "}\n",
       "</style>\n",
       "<small>shape: (5, 2)</small><table border=\"1\" class=\"dataframe\"><thead><tr><th>Director</th><th>count</th></tr><tr><td>str</td><td>u32</td></tr></thead><tbody><tr><td>&quot;Billy Wilder&quot;</td><td>3</td></tr><tr><td>&quot;Yorgos Lanthimos&quot;</td><td>2</td></tr><tr><td>&quot;Akira Kurosawa&quot;</td><td>2</td></tr><tr><td>&quot;Sidney Lumet&quot;</td><td>2</td></tr><tr><td>&quot;Will Gluck&quot;</td><td>2</td></tr></tbody></table></div>"
      ],
      "text/plain": [
       "shape: (5, 2)\n",
       "┌──────────────────┬───────┐\n",
       "│ Director         ┆ count │\n",
       "│ ---              ┆ ---   │\n",
       "│ str              ┆ u32   │\n",
       "╞══════════════════╪═══════╡\n",
       "│ Billy Wilder     ┆ 3     │\n",
       "│ Yorgos Lanthimos ┆ 2     │\n",
       "│ Akira Kurosawa   ┆ 2     │\n",
       "│ Sidney Lumet     ┆ 2     │\n",
       "│ Will Gluck       ┆ 2     │\n",
       "└──────────────────┴───────┘"
      ]
     },
     "execution_count": 46,
     "metadata": {},
     "output_type": "execute_result"
    }
   ],
   "source": [
    "# Top directors\n",
    "df.group_by(\"Director\").agg(pl.col(\"Name\").count().alias(\"count\")).sort(\"count\", descending=True).head(5)"
   ]
  },
  {
   "cell_type": "code",
   "execution_count": 40,
   "id": "d80e41f8",
   "metadata": {},
   "outputs": [
    {
     "name": "stdout",
     "output_type": "stream",
     "text": [
      "Al Pacino: 3\n",
      "Robert De Niro: 2\n",
      "Sandra Hüller: 2\n",
      "Emma Stone: 2\n",
      "Willem Dafoe: 2\n",
      "Zendaya: 2\n",
      "Sam Neill: 2\n",
      "Roy Scheider: 2\n",
      "Mia Goth: 2\n",
      "Tony Leung Chiu-wai: 2\n"
     ]
    }
   ],
   "source": [
    "# Top actors\n",
    "get_top_from_list(df, \"Actors\", 10)"
   ]
  },
  {
   "cell_type": "code",
   "execution_count": 54,
   "id": "b25069a9",
   "metadata": {},
   "outputs": [
    {
     "name": "stdout",
     "output_type": "stream",
     "text": [
      "Billy Wilder: 3\n",
      "Ti West: 2\n",
      "Ingmar Bergman: 2\n",
      "I.A.L. Diamond: 2\n",
      "Hideo Oguni: 2\n",
      "Richard Linklater: 2\n",
      "Aki Kaurismäki: 1\n",
      "Michael Mann: 1\n",
      "Hayao Miyazaki: 1\n",
      "Justine Triet: 1\n"
     ]
    }
   ],
   "source": [
    "# Top writers\n",
    "get_top_from_list(df, \"Writer\", 10)"
   ]
  },
  {
   "cell_type": "code",
   "execution_count": 61,
   "id": "a2c50070",
   "metadata": {},
   "outputs": [
    {
     "name": "stdout",
     "output_type": "stream",
     "text": [
      "Drama: 60\n",
      "Comedy: 33\n",
      "Romance: 19\n",
      "Action: 14\n",
      "Crime: 14\n",
      "Adventure: 14\n",
      "Horror: 12\n",
      "Thriller: 11\n",
      "Fantasy: 10\n",
      "Animation: 7\n"
     ]
    }
   ],
   "source": [
    "# Top genres\n",
    "get_top_from_list(df, \"Genre\", 10)"
   ]
  },
  {
   "cell_type": "code",
   "execution_count": 52,
   "id": "330a5f03",
   "metadata": {},
   "outputs": [
    {
     "name": "stdout",
     "output_type": "stream",
     "text": [
      "United States: 63\n",
      "United Kingdom: 14\n",
      "Japan: 12\n",
      "France: 12\n",
      "Canada: 9\n",
      "Italy: 9\n",
      "New Zealand: 5\n",
      "Germany: 3\n",
      "Australia: 3\n",
      "Ireland: 2\n"
     ]
    }
   ],
   "source": [
    "# Movies by country\n",
    "get_top_from_list(df, \"Country\", 10)"
   ]
  },
  {
   "cell_type": "code",
   "execution_count": 53,
   "id": "1e27230a",
   "metadata": {},
   "outputs": [
    {
     "name": "stdout",
     "output_type": "stream",
     "text": [
      "English: 70\n",
      "French: 17\n",
      "Japanese: 11\n",
      "Italian: 11\n",
      "Spanish: 8\n",
      "German: 8\n",
      "Mandarin: 4\n",
      "Cantonese: 4\n",
      "Latin: 4\n",
      "Korean: 3\n"
     ]
    }
   ],
   "source": [
    "# Movies by language\n",
    "get_top_from_list(df, \"Language\", 10)"
   ]
  },
  {
   "cell_type": "code",
   "execution_count": 60,
   "id": "d926c5c5",
   "metadata": {},
   "outputs": [
    {
     "name": "stdout",
     "output_type": "stream",
     "text": [
      "Heat 5.0\n",
      "Perfect Days 5.0\n",
      "Past Lives 5.0\n",
      "Dune: Part Two 5.0\n",
      "Possession 5.0\n",
      "The Thing 5.0\n",
      "Die Hard 5.0\n",
      "Superbad 5.0\n",
      "The Seventh Seal 5.0\n",
      "Come and See 5.0\n",
      "The Apartment 5.0\n",
      "Paths of Glory 5.0\n",
      "Stalker 5.0\n",
      "All That Jazz 5.0\n",
      "Taste of the Sea 5.0\n",
      "Before Midnight 5.0\n",
      "Some Like It Hot 5.0\n",
      "The Sound of Music 5.0\n",
      "Groundhog Day 5.0\n",
      "Rushmore 5.0\n",
      "Ran 5.0\n",
      "The Wizard of Oz 5.0\n",
      "Look Back 5.0\n",
      "A Woman Under the Influence 5.0\n",
      "Submarine 5.0\n",
      "Ferris Bueller's Day Off 5.0\n"
     ]
    }
   ],
   "source": [
    "# Top movies by my rating\n",
    "for m, r in df.select(\"Name\", \"Rating\").drop_nulls().sort(\"Rating\", descending=True).rows():\n",
    "    if r == 5:\n",
    "        print(m, r)\n",
    "\n",
    "# Perfect Days 5.0\n",
    "# Past Lives 5.0\n",
    "# Dune: Part Two 5.0\n",
    "# The Thing 5.0\n",
    "# Ferris Bueller's Day Off 5.0\n"
   ]
  },
  {
   "cell_type": "code",
   "execution_count": 18,
   "id": "ef5fac22",
   "metadata": {},
   "outputs": [
    {
     "data": {
      "text/html": [
       "<div><style>\n",
       ".dataframe > thead > tr,\n",
       ".dataframe > tbody > tr {\n",
       "  text-align: right;\n",
       "  white-space: pre-wrap;\n",
       "}\n",
       "</style>\n",
       "<small>shape: (5, 2)</small><table border=\"1\" class=\"dataframe\"><thead><tr><th>Name</th><th>Metascore</th></tr><tr><td>str</td><td>i64</td></tr></thead><tbody><tr><td>&quot;Lawrence of Arabia&quot;</td><td>100</td></tr><tr><td>&quot;Some Like It Hot&quot;</td><td>98</td></tr><tr><td>&quot;Ran&quot;</td><td>97</td></tr><tr><td>&quot;Portrait of a Lady on Fire&quot;</td><td>95</td></tr><tr><td>&quot;Past Lives&quot;</td><td>94</td></tr></tbody></table></div>"
      ],
      "text/plain": [
       "shape: (5, 2)\n",
       "┌────────────────────────────┬───────────┐\n",
       "│ Name                       ┆ Metascore │\n",
       "│ ---                        ┆ ---       │\n",
       "│ str                        ┆ i64       │\n",
       "╞════════════════════════════╪═══════════╡\n",
       "│ Lawrence of Arabia         ┆ 100       │\n",
       "│ Some Like It Hot           ┆ 98        │\n",
       "│ Ran                        ┆ 97        │\n",
       "│ Portrait of a Lady on Fire ┆ 95        │\n",
       "│ Past Lives                 ┆ 94        │\n",
       "└────────────────────────────┴───────────┘"
      ]
     },
     "execution_count": 18,
     "metadata": {},
     "output_type": "execute_result"
    }
   ],
   "source": [
    "# Top movies by Metascore\n",
    "df.select(\"Name\", \"Metascore\").drop_nulls().sort(\"Metascore\", descending=True).head(5)"
   ]
  },
  {
   "cell_type": "code",
   "execution_count": 19,
   "id": "1c1ac8d3",
   "metadata": {},
   "outputs": [
    {
     "data": {
      "text/html": [
       "<div><style>\n",
       ".dataframe > thead > tr,\n",
       ".dataframe > tbody > tr {\n",
       "  text-align: right;\n",
       "  white-space: pre-wrap;\n",
       "}\n",
       "</style>\n",
       "<small>shape: (5, 4)</small><table border=\"1\" class=\"dataframe\"><thead><tr><th>Name</th><th>Rating_Difference_Metascore</th><th>Rating</th><th>Normalized_Metascore</th></tr><tr><td>str</td><td>f64</td><td>f64</td><td>f64</td></tr></thead><tbody><tr><td>&quot;Friday the 13th&quot;</td><td>2.9</td><td>4.0</td><td>1.1</td></tr><tr><td>&quot;The Thing&quot;</td><td>2.15</td><td>5.0</td><td>2.85</td></tr><tr><td>&quot;Bullet Train&quot;</td><td>2.05</td><td>4.5</td><td>2.45</td></tr><tr><td>&quot;Ferris Bueller&#x27;s Day Off&quot;</td><td>1.95</td><td>5.0</td><td>3.05</td></tr><tr><td>&quot;The Sound of Music&quot;</td><td>1.85</td><td>5.0</td><td>3.15</td></tr></tbody></table></div>"
      ],
      "text/plain": [
       "shape: (5, 4)\n",
       "┌──────────────────────────┬─────────────────────────────┬────────┬──────────────────────┐\n",
       "│ Name                     ┆ Rating_Difference_Metascore ┆ Rating ┆ Normalized_Metascore │\n",
       "│ ---                      ┆ ---                         ┆ ---    ┆ ---                  │\n",
       "│ str                      ┆ f64                         ┆ f64    ┆ f64                  │\n",
       "╞══════════════════════════╪═════════════════════════════╪════════╪══════════════════════╡\n",
       "│ Friday the 13th          ┆ 2.9                         ┆ 4.0    ┆ 1.1                  │\n",
       "│ The Thing                ┆ 2.15                        ┆ 5.0    ┆ 2.85                 │\n",
       "│ Bullet Train             ┆ 2.05                        ┆ 4.5    ┆ 2.45                 │\n",
       "│ Ferris Bueller's Day Off ┆ 1.95                        ┆ 5.0    ┆ 3.05                 │\n",
       "│ The Sound of Music       ┆ 1.85                        ┆ 5.0    ┆ 3.15                 │\n",
       "└──────────────────────────┴─────────────────────────────┴────────┴──────────────────────┘"
      ]
     },
     "execution_count": 19,
     "metadata": {},
     "output_type": "execute_result"
    }
   ],
   "source": [
    "df.select(\"Name\", \"Rating_Difference_Metascore\", \"Rating\", \"Normalized_Metascore\").drop_nulls().sort(\"Rating_Difference_Metascore\", descending=True).head(5)"
   ]
  },
  {
   "cell_type": "code",
   "execution_count": 20,
   "id": "dcb5094e",
   "metadata": {},
   "outputs": [
    {
     "data": {
      "text/html": [
       "<div><style>\n",
       ".dataframe > thead > tr,\n",
       ".dataframe > tbody > tr {\n",
       "  text-align: right;\n",
       "  white-space: pre-wrap;\n",
       "}\n",
       "</style>\n",
       "<small>shape: (5, 4)</small><table border=\"1\" class=\"dataframe\"><thead><tr><th>Name</th><th>Rating_Difference_IMDB</th><th>Rating</th><th>Normalized_IMDB</th></tr><tr><td>str</td><td>f64</td><td>f64</td><td>decimal[*,6]</td></tr></thead><tbody><tr><td>&quot;Salò, or the 120 Days of Sodom&quot;</td><td>2.4</td><td>0.5</td><td>2.900000</td></tr><tr><td>&quot;Possession&quot;</td><td>1.35</td><td>5.0</td><td>3.650000</td></tr><tr><td>&quot;Submarine&quot;</td><td>1.35</td><td>5.0</td><td>3.650000</td></tr><tr><td>&quot;Superbad&quot;</td><td>1.2</td><td>5.0</td><td>3.800000</td></tr><tr><td>&quot;Rushmore&quot;</td><td>1.2</td><td>5.0</td><td>3.800000</td></tr></tbody></table></div>"
      ],
      "text/plain": [
       "shape: (5, 4)\n",
       "┌────────────────────────────────┬────────────────────────┬────────┬─────────────────┐\n",
       "│ Name                           ┆ Rating_Difference_IMDB ┆ Rating ┆ Normalized_IMDB │\n",
       "│ ---                            ┆ ---                    ┆ ---    ┆ ---             │\n",
       "│ str                            ┆ f64                    ┆ f64    ┆ decimal[*,6]    │\n",
       "╞════════════════════════════════╪════════════════════════╪════════╪═════════════════╡\n",
       "│ Salò, or the 120 Days of Sodom ┆ 2.4                    ┆ 0.5    ┆ 2.900000        │\n",
       "│ Possession                     ┆ 1.35                   ┆ 5.0    ┆ 3.650000        │\n",
       "│ Submarine                      ┆ 1.35                   ┆ 5.0    ┆ 3.650000        │\n",
       "│ Superbad                       ┆ 1.2                    ┆ 5.0    ┆ 3.800000        │\n",
       "│ Rushmore                       ┆ 1.2                    ┆ 5.0    ┆ 3.800000        │\n",
       "└────────────────────────────────┴────────────────────────┴────────┴─────────────────┘"
      ]
     },
     "execution_count": 20,
     "metadata": {},
     "output_type": "execute_result"
    }
   ],
   "source": [
    "# Most controversial ratings\n",
    "df.select(\"Name\", \"Rating_Difference_IMDB\", \"Rating\", \"Normalized_IMDB\").drop_nulls().sort(\"Rating_Difference_IMDB\", descending=True).head(5)"
   ]
  },
  {
   "cell_type": "code",
   "execution_count": 24,
   "id": "d43f06f5",
   "metadata": {},
   "outputs": [
    {
     "data": {
      "text/html": [
       "<div><style>\n",
       ".dataframe > thead > tr,\n",
       ".dataframe > tbody > tr {\n",
       "  text-align: right;\n",
       "  white-space: pre-wrap;\n",
       "}\n",
       "</style>\n",
       "<small>shape: (48, 2)</small><table border=\"1\" class=\"dataframe\"><thead><tr><th>Year</th><th>count</th></tr><tr><td>i64</td><td>u32</td></tr></thead><tbody><tr><td>2023</td><td>16</td></tr><tr><td>2024</td><td>13</td></tr><tr><td>2022</td><td>4</td></tr><tr><td>1993</td><td>3</td></tr><tr><td>1975</td><td>3</td></tr><tr><td>&hellip;</td><td>&hellip;</td></tr><tr><td>2021</td><td>1</td></tr><tr><td>1976</td><td>1</td></tr><tr><td>1959</td><td>1</td></tr><tr><td>2017</td><td>1</td></tr><tr><td>1991</td><td>1</td></tr></tbody></table></div>"
      ],
      "text/plain": [
       "shape: (48, 2)\n",
       "┌──────┬───────┐\n",
       "│ Year ┆ count │\n",
       "│ ---  ┆ ---   │\n",
       "│ i64  ┆ u32   │\n",
       "╞══════╪═══════╡\n",
       "│ 2023 ┆ 16    │\n",
       "│ 2024 ┆ 13    │\n",
       "│ 2022 ┆ 4     │\n",
       "│ 1993 ┆ 3     │\n",
       "│ 1975 ┆ 3     │\n",
       "│ …    ┆ …     │\n",
       "│ 2021 ┆ 1     │\n",
       "│ 1976 ┆ 1     │\n",
       "│ 1959 ┆ 1     │\n",
       "│ 2017 ┆ 1     │\n",
       "│ 1991 ┆ 1     │\n",
       "└──────┴───────┘"
      ]
     },
     "execution_count": 24,
     "metadata": {},
     "output_type": "execute_result"
    }
   ],
   "source": [
    "df.group_by(\"Year\").agg(pl.col(\"Name\").count().alias(\"count\")).sort(\"count\", descending=True)"
   ]
  },
  {
   "cell_type": "code",
   "execution_count": null,
   "id": "7e9e3d16",
   "metadata": {},
   "outputs": [],
   "source": []
  }
 ],
 "metadata": {
  "kernelspec": {
   "display_name": ".venv",
   "language": "python",
   "name": "python3"
  },
  "language_info": {
   "codemirror_mode": {
    "name": "ipython",
    "version": 3
   },
   "file_extension": ".py",
   "mimetype": "text/x-python",
   "name": "python",
   "nbconvert_exporter": "python",
   "pygments_lexer": "ipython3",
   "version": "3.13.0"
  }
 },
 "nbformat": 4,
 "nbformat_minor": 5
}
